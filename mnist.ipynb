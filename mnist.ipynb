{
 "cells": [
  {
   "cell_type": "code",
   "execution_count": 10,
   "metadata": {
    "collapsed": true,
    "ExecuteTime": {
     "end_time": "2023-12-11T19:51:17.410693Z",
     "start_time": "2023-12-11T19:51:14.934564900Z"
    }
   },
   "outputs": [],
   "source": [
    "import numpy as np\n",
    "import numpy.typing as npt\n",
    "from PIL import Image\n",
    "from datasets import load_dataset\n",
    "from albumentations import Resize\n",
    "import matplotlib.pyplot as plt\n",
    "\n",
    "from dual import NeuralNetwork"
   ]
  },
  {
   "cell_type": "code",
   "execution_count": 11,
   "outputs": [],
   "source": [
    "def transform_image(image: Image) -> npt.NDArray:\n",
    "    image = np.array(image) # to numpy\n",
    "    image = Resize(width=12, height=12)(image=image)[\"image\"] # resize\n",
    "    image = image / 255 # normalize\n",
    "    image = image.flatten() # flatten\n",
    "    return image\n",
    "\n",
    "def one_hot_encode_label(label: int) -> int:\n",
    "    result = np.zeros(10)\n",
    "    result[label] = 1\n",
    "    return result\n",
    "\n",
    "def transform(batch):\n",
    "    batch[\"input\"] = [transform_image(image) for image in batch[\"input\"]]\n",
    "    batch[\"label\"] = [one_hot_encode_label(label) for label in batch[\"label\"]]\n",
    "    return batch\n",
    "\n",
    "\n",
    "ds = (\n",
    "    load_dataset(\"mnist\", keep_in_memory=True)\n",
    "    .with_transform(transform=transform)\n",
    "    .rename_column(original_column_name=\"image\", new_column_name=\"input\")\n",
    ")\n",
    "\n",
    "dstrain = ds[\"train\"]"
   ],
   "metadata": {
    "collapsed": false,
    "ExecuteTime": {
     "end_time": "2023-12-11T19:51:24.447978400Z",
     "start_time": "2023-12-11T19:51:20.077645400Z"
    }
   }
  },
  {
   "cell_type": "code",
   "execution_count": 15,
   "outputs": [
    {
     "data": {
      "text/plain": "<matplotlib.image.AxesImage at 0x2980fe77150>"
     },
     "execution_count": 15,
     "metadata": {},
     "output_type": "execute_result"
    },
    {
     "data": {
      "text/plain": "<Figure size 640x480 with 1 Axes>",
      "image/png": "[encoded data removed]"
     },
     "metadata": {},
     "output_type": "display_data"
    }
   ],
   "source": [
    "plt.imshow(ds[\"train\"][0][\"input\"].reshape(12, 12), cmap=\"grey\")"
   ],
   "metadata": {
    "collapsed": false,
    "ExecuteTime": {
     "end_time": "2023-12-11T19:56:26.287129200Z",
     "start_time": "2023-12-11T19:56:26.103560900Z"
    }
   }
  },
  {
   "cell_type": "code",
   "execution_count": 16,
   "outputs": [
    {
     "name": "stderr",
     "output_type": "stream",
     "text": [
      "EPOCH 1:  10%|█         | 6186/60000 [1:10:28<10:13:04,  1.46it/s, loss=0.457, validation_accuracy=0.85]   \n"
     ]
    },
    {
     "ename": "KeyboardInterrupt",
     "evalue": "",
     "output_type": "error",
     "traceback": [
      "\u001B[1;31m---------------------------------------------------------------------------\u001B[0m",
      "\u001B[1;31mKeyboardInterrupt\u001B[0m                         Traceback (most recent call last)",
      "Cell \u001B[1;32mIn[16], line 14\u001B[0m\n\u001B[0;32m     11\u001B[0m model\u001B[38;5;241m.\u001B[39madd_layer(n_neurons\u001B[38;5;241m=\u001B[39m\u001B[38;5;241m20\u001B[39m, activation_function\u001B[38;5;241m=\u001B[39mrelu, initialize\u001B[38;5;241m=\u001B[39m\u001B[38;5;124m\"\u001B[39m\u001B[38;5;124mHe\u001B[39m\u001B[38;5;124m\"\u001B[39m)\n\u001B[0;32m     12\u001B[0m model\u001B[38;5;241m.\u001B[39madd_layer(n_neurons\u001B[38;5;241m=\u001B[39m\u001B[38;5;241m10\u001B[39m, activation_function\u001B[38;5;241m=\u001B[39msoftmax, initialize\u001B[38;5;241m=\u001B[39m\u001B[38;5;124m\"\u001B[39m\u001B[38;5;124mXavier\u001B[39m\u001B[38;5;124m\"\u001B[39m)\n\u001B[1;32m---> 14\u001B[0m \u001B[43mmodel\u001B[49m\u001B[38;5;241;43m.\u001B[39;49m\u001B[43mtrain\u001B[49m\u001B[43m(\u001B[49m\u001B[43mdata\u001B[49m\u001B[38;5;241;43m=\u001B[39;49m\u001B[43mds\u001B[49m\u001B[43m[\u001B[49m\u001B[38;5;124;43m\"\u001B[39;49m\u001B[38;5;124;43mtrain\u001B[39;49m\u001B[38;5;124;43m\"\u001B[39;49m\u001B[43m]\u001B[49m\u001B[43m,\u001B[49m\n\u001B[0;32m     15\u001B[0m \u001B[43m            \u001B[49m\u001B[43mlearning_rate\u001B[49m\u001B[38;5;241;43m=\u001B[39;49m\u001B[38;5;241;43m0.1\u001B[39;49m\u001B[43m,\u001B[49m\n\u001B[0;32m     16\u001B[0m \u001B[43m            \u001B[49m\u001B[43mepochs\u001B[49m\u001B[38;5;241;43m=\u001B[39;49m\u001B[38;5;241;43m1\u001B[39;49m\u001B[43m,\u001B[49m\n\u001B[0;32m     17\u001B[0m \u001B[43m            \u001B[49m\u001B[43mvalidation_data\u001B[49m\u001B[38;5;241;43m=\u001B[39;49m\u001B[43mds\u001B[49m\u001B[43m[\u001B[49m\u001B[38;5;124;43m\"\u001B[39;49m\u001B[38;5;124;43mtest\u001B[39;49m\u001B[38;5;124;43m\"\u001B[39;49m\u001B[43m]\u001B[49m\u001B[43m)\u001B[49m\n\u001B[0;32m     19\u001B[0m \u001B[38;5;28mprint\u001B[39m(model\u001B[38;5;241m.\u001B[39maccuracy(ds[\u001B[38;5;124m\"\u001B[39m\u001B[38;5;124mtest\u001B[39m\u001B[38;5;124m\"\u001B[39m]))\n",
      "File \u001B[1;32m~\\PycharmProjects\\dual-numbers\\dual\\neural_net.py:91\u001B[0m, in \u001B[0;36mNeuralNetwork.train\u001B[1;34m(self, data, epochs, learning_rate, validation_data, validation_frequency)\u001B[0m\n\u001B[0;32m     86\u001B[0m rolling_loss[\u001B[38;5;241m0\u001B[39m] \u001B[38;5;241m=\u001B[39m loss\n\u001B[0;32m     87\u001B[0m it\u001B[38;5;241m.\u001B[39mset_postfix(\n\u001B[0;32m     88\u001B[0m     loss\u001B[38;5;241m=\u001B[39mnp\u001B[38;5;241m.\u001B[39mmean(rolling_loss),\n\u001B[0;32m     89\u001B[0m     validation_accuracy\u001B[38;5;241m=\u001B[39mvalidation_accuracy,\n\u001B[0;32m     90\u001B[0m )\n\u001B[1;32m---> 91\u001B[0m gradients \u001B[38;5;241m=\u001B[39m \u001B[38;5;28;43mself\u001B[39;49m\u001B[38;5;241;43m.\u001B[39;49m\u001B[43mcompute_gradients\u001B[49m\u001B[43m(\u001B[49m\u001B[43mx\u001B[49m\u001B[38;5;241;43m=\u001B[39;49m\u001B[43mx\u001B[49m\u001B[43m,\u001B[49m\u001B[43m \u001B[49m\u001B[43my\u001B[49m\u001B[38;5;241;43m=\u001B[39;49m\u001B[43my\u001B[49m\u001B[43m)\u001B[49m\n\u001B[0;32m     92\u001B[0m \u001B[38;5;28mself\u001B[39m\u001B[38;5;241m.\u001B[39mupdate_parameters(\n\u001B[0;32m     93\u001B[0m     gradients\u001B[38;5;241m=\u001B[39mgradients, learning_rate\u001B[38;5;241m=\u001B[39mlearning_rate\n\u001B[0;32m     94\u001B[0m )\n",
      "File \u001B[1;32m~\\PycharmProjects\\dual-numbers\\dual\\neural_net.py:42\u001B[0m, in \u001B[0;36mNeuralNetwork.compute_gradients\u001B[1;34m(self, x, y)\u001B[0m\n\u001B[0;32m     40\u001B[0m gradients \u001B[38;5;241m=\u001B[39m []\n\u001B[0;32m     41\u001B[0m \u001B[38;5;28;01mfor\u001B[39;00m layer \u001B[38;5;129;01min\u001B[39;00m \u001B[38;5;28mself\u001B[39m\u001B[38;5;241m.\u001B[39mlayers:\n\u001B[1;32m---> 42\u001B[0m     gradients\u001B[38;5;241m.\u001B[39mappend(\u001B[43mlayer\u001B[49m\u001B[38;5;241;43m.\u001B[39;49m\u001B[43mcompute_gradient\u001B[49m\u001B[43m(\u001B[49m\u001B[43mx\u001B[49m\u001B[38;5;241;43m=\u001B[39;49m\u001B[43mx\u001B[49m\u001B[43m,\u001B[49m\u001B[43m \u001B[49m\u001B[43my\u001B[49m\u001B[38;5;241;43m=\u001B[39;49m\u001B[43my\u001B[49m\u001B[43m)\u001B[49m)\n\u001B[0;32m     43\u001B[0m     x \u001B[38;5;241m=\u001B[39m layer\u001B[38;5;241m.\u001B[39mcompute_activation(x\u001B[38;5;241m=\u001B[39mx)\n\u001B[0;32m     44\u001B[0m \u001B[38;5;28;01mreturn\u001B[39;00m gradients\n",
      "File \u001B[1;32m~\\PycharmProjects\\dual-numbers\\dual\\layer.py:87\u001B[0m, in \u001B[0;36mLayer.compute_gradient\u001B[1;34m(self, x, y)\u001B[0m\n\u001B[0;32m     84\u001B[0m         dual[it\u001B[38;5;241m.\u001B[39mmulti_index] \u001B[38;5;241m=\u001B[39m \u001B[38;5;241m1\u001B[39m\n\u001B[0;32m     85\u001B[0m         dual_parameter \u001B[38;5;241m=\u001B[39m DualTensor(real\u001B[38;5;241m=\u001B[39m\u001B[38;5;28mself\u001B[39m\u001B[38;5;241m.\u001B[39mweights, dual\u001B[38;5;241m=\u001B[39mdual)\n\u001B[1;32m---> 87\u001B[0m         weights_gradient[it\u001B[38;5;241m.\u001B[39mmulti_index] \u001B[38;5;241m=\u001B[39m \u001B[38;5;28;43mself\u001B[39;49m\u001B[38;5;241;43m.\u001B[39;49m\u001B[43mpush_forward\u001B[49m\u001B[43m(\u001B[49m\n\u001B[0;32m     88\u001B[0m \u001B[43m            \u001B[49m\u001B[43mx\u001B[49m\u001B[38;5;241;43m=\u001B[39;49m\u001B[43mx\u001B[49m\u001B[43m,\u001B[49m\u001B[43m \u001B[49m\u001B[43my\u001B[49m\u001B[38;5;241;43m=\u001B[39;49m\u001B[43my\u001B[49m\u001B[43m,\u001B[49m\u001B[43m \u001B[49m\u001B[43mweights\u001B[49m\u001B[38;5;241;43m=\u001B[39;49m\u001B[43mdual_parameter\u001B[49m\n\u001B[0;32m     89\u001B[0m \u001B[43m        \u001B[49m\u001B[43m)\u001B[49m\u001B[38;5;241m.\u001B[39mdual\n\u001B[0;32m     91\u001B[0m bias_gradient \u001B[38;5;241m=\u001B[39m np\u001B[38;5;241m.\u001B[39mzeros_like(\u001B[38;5;28mself\u001B[39m\u001B[38;5;241m.\u001B[39mbias)\n\u001B[0;32m     92\u001B[0m \u001B[38;5;28;01mfor\u001B[39;00m i \u001B[38;5;129;01min\u001B[39;00m \u001B[38;5;28mrange\u001B[39m(\u001B[38;5;28mself\u001B[39m\u001B[38;5;241m.\u001B[39mn_neurons):\n",
      "File \u001B[1;32m~\\PycharmProjects\\dual-numbers\\dual\\layer.py:73\u001B[0m, in \u001B[0;36mLayer.push_forward\u001B[1;34m(self, x, y, weights, bias)\u001B[0m\n\u001B[0;32m     66\u001B[0m \u001B[38;5;28;01mdef\u001B[39;00m \u001B[38;5;21mpush_forward\u001B[39m(\n\u001B[0;32m     67\u001B[0m     \u001B[38;5;28mself\u001B[39m,\n\u001B[0;32m     68\u001B[0m     x: Tensor,\n\u001B[1;32m   (...)\u001B[0m\n\u001B[0;32m     71\u001B[0m     bias: Tensor \u001B[38;5;241m|\u001B[39m \u001B[38;5;28;01mNone\u001B[39;00m \u001B[38;5;241m=\u001B[39m \u001B[38;5;28;01mNone\u001B[39;00m,\n\u001B[0;32m     72\u001B[0m ) \u001B[38;5;241m-\u001B[39m\u001B[38;5;241m>\u001B[39m Tensor:\n\u001B[1;32m---> 73\u001B[0m     x \u001B[38;5;241m=\u001B[39m \u001B[38;5;28;43mself\u001B[39;49m\u001B[38;5;241;43m.\u001B[39;49m\u001B[43mcompute_activation\u001B[49m\u001B[43m(\u001B[49m\u001B[43mx\u001B[49m\u001B[38;5;241;43m=\u001B[39;49m\u001B[43mx\u001B[49m\u001B[43m,\u001B[49m\u001B[43m \u001B[49m\u001B[43mweights\u001B[49m\u001B[38;5;241;43m=\u001B[39;49m\u001B[43mweights\u001B[49m\u001B[43m,\u001B[49m\u001B[43m \u001B[49m\u001B[43mbias\u001B[49m\u001B[38;5;241;43m=\u001B[39;49m\u001B[43mbias\u001B[49m\u001B[43m)\u001B[49m\n\u001B[0;32m     74\u001B[0m     \u001B[38;5;28;01mif\u001B[39;00m \u001B[38;5;28mself\u001B[39m\u001B[38;5;241m.\u001B[39mnext_layer \u001B[38;5;129;01mis\u001B[39;00m \u001B[38;5;129;01mnot\u001B[39;00m \u001B[38;5;28;01mNone\u001B[39;00m:\n\u001B[0;32m     75\u001B[0m         \u001B[38;5;28;01mreturn\u001B[39;00m \u001B[38;5;28mself\u001B[39m\u001B[38;5;241m.\u001B[39mnext_layer\u001B[38;5;241m.\u001B[39mpush_forward(x\u001B[38;5;241m=\u001B[39mx, y\u001B[38;5;241m=\u001B[39my)\n",
      "File \u001B[1;32m~\\PycharmProjects\\dual-numbers\\dual\\layer.py:64\u001B[0m, in \u001B[0;36mLayer.compute_activation\u001B[1;34m(self, x, weights, bias)\u001B[0m\n\u001B[0;32m     62\u001B[0m weights \u001B[38;5;241m=\u001B[39m weights \u001B[38;5;28;01mif\u001B[39;00m weights \u001B[38;5;129;01mis\u001B[39;00m \u001B[38;5;129;01mnot\u001B[39;00m \u001B[38;5;28;01mNone\u001B[39;00m \u001B[38;5;28;01melse\u001B[39;00m \u001B[38;5;28mself\u001B[39m\u001B[38;5;241m.\u001B[39mweights\n\u001B[0;32m     63\u001B[0m bias \u001B[38;5;241m=\u001B[39m bias \u001B[38;5;28;01mif\u001B[39;00m bias \u001B[38;5;129;01mis\u001B[39;00m \u001B[38;5;129;01mnot\u001B[39;00m \u001B[38;5;28;01mNone\u001B[39;00m \u001B[38;5;28;01melse\u001B[39;00m \u001B[38;5;28mself\u001B[39m\u001B[38;5;241m.\u001B[39mbias\n\u001B[1;32m---> 64\u001B[0m \u001B[38;5;28;01mreturn\u001B[39;00m \u001B[38;5;28;43mself\u001B[39;49m\u001B[38;5;241;43m.\u001B[39;49m\u001B[43mactivation_function\u001B[49m\u001B[43m(\u001B[49m\u001B[43mweights\u001B[49m\u001B[43m \u001B[49m\u001B[38;5;241;43m@\u001B[39;49m\u001B[43m \u001B[49m\u001B[43mx\u001B[49m\u001B[43m \u001B[49m\u001B[38;5;241;43m+\u001B[39;49m\u001B[43m \u001B[49m\u001B[43mbias\u001B[49m\u001B[43m)\u001B[49m\n",
      "Cell \u001B[1;32mIn[16], line 2\u001B[0m, in \u001B[0;36mrelu\u001B[1;34m(x)\u001B[0m\n\u001B[0;32m      1\u001B[0m \u001B[38;5;28;01mdef\u001B[39;00m \u001B[38;5;21mrelu\u001B[39m(x):\n\u001B[1;32m----> 2\u001B[0m     \u001B[38;5;28;01mreturn\u001B[39;00m \u001B[43mnp\u001B[49m\u001B[38;5;241;43m.\u001B[39;49m\u001B[43mmaximum\u001B[49m\u001B[43m(\u001B[49m\u001B[43mx\u001B[49m\u001B[43m,\u001B[49m\u001B[43m \u001B[49m\u001B[38;5;241;43m0\u001B[39;49m\u001B[43m)\u001B[49m\n",
      "File \u001B[1;32m~\\PycharmProjects\\dual-numbers\\dual\\tensor.py:157\u001B[0m, in \u001B[0;36mDualTensor.__array_ufunc__\u001B[1;34m(self, ufunc, method, *args, **kwargs)\u001B[0m\n\u001B[0;32m    154\u001B[0m     \u001B[38;5;28;01mreturn\u001B[39;00m handler(\u001B[38;5;241m*\u001B[39margs, \u001B[38;5;241m*\u001B[39m\u001B[38;5;241m*\u001B[39mkwargs)\n\u001B[0;32m    156\u001B[0m \u001B[38;5;28;01mif\u001B[39;00m ufunc\u001B[38;5;241m.\u001B[39msignature \u001B[38;5;129;01mis\u001B[39;00m \u001B[38;5;28;01mNone\u001B[39;00m:\n\u001B[1;32m--> 157\u001B[0m     \u001B[38;5;28;01mreturn\u001B[39;00m \u001B[38;5;28;43mself\u001B[39;49m\u001B[38;5;241;43m.\u001B[39;49m\u001B[43mpointwise_function\u001B[49m\u001B[43m(\u001B[49m\u001B[43mfunc\u001B[49m\u001B[38;5;241;43m=\u001B[39;49m\u001B[43mufunc\u001B[49m\u001B[43m,\u001B[49m\u001B[43m \u001B[49m\u001B[43mx\u001B[49m\u001B[38;5;241;43m=\u001B[39;49m\u001B[43margs\u001B[49m\u001B[43m[\u001B[49m\u001B[38;5;241;43m0\u001B[39;49m\u001B[43m]\u001B[49m\u001B[43m,\u001B[49m\u001B[43m \u001B[49m\u001B[43mextra_args\u001B[49m\u001B[38;5;241;43m=\u001B[39;49m\u001B[43margs\u001B[49m\u001B[43m[\u001B[49m\u001B[38;5;241;43m1\u001B[39;49m\u001B[43m:\u001B[49m\u001B[43m]\u001B[49m\u001B[43m)\u001B[49m\n\u001B[0;32m    159\u001B[0m \u001B[38;5;28;01mreturn\u001B[39;00m \u001B[38;5;28mNotImplemented\u001B[39m\n",
      "File \u001B[1;32m~\\PycharmProjects\\dual-numbers\\dual\\tensor.py:142\u001B[0m, in \u001B[0;36mDualTensor.pointwise_function\u001B[1;34m(func, x, extra_args)\u001B[0m\n\u001B[0;32m    138\u001B[0m \u001B[38;5;28;01mif\u001B[39;00m derivative \u001B[38;5;129;01mis\u001B[39;00m \u001B[38;5;28;01mNone\u001B[39;00m:\n\u001B[0;32m    139\u001B[0m     \u001B[38;5;28;01mreturn\u001B[39;00m \u001B[38;5;28mNotImplemented\u001B[39m\n\u001B[0;32m    140\u001B[0m \u001B[38;5;28;01mreturn\u001B[39;00m DualTensor(\n\u001B[0;32m    141\u001B[0m     real\u001B[38;5;241m=\u001B[39mfunc(x\u001B[38;5;241m.\u001B[39mreal, \u001B[38;5;241m*\u001B[39mextra_args),\n\u001B[1;32m--> 142\u001B[0m     dual\u001B[38;5;241m=\u001B[39m\u001B[43mderivative\u001B[49m\u001B[43m(\u001B[49m\u001B[43mx\u001B[49m\u001B[38;5;241;43m.\u001B[39;49m\u001B[43mreal\u001B[49m\u001B[43m,\u001B[49m\u001B[43m \u001B[49m\u001B[38;5;241;43m*\u001B[39;49m\u001B[43mextra_args\u001B[49m\u001B[43m)\u001B[49m \u001B[38;5;241m*\u001B[39m x\u001B[38;5;241m.\u001B[39mdual,\n\u001B[0;32m    143\u001B[0m )\n",
      "File \u001B[1;32m~\\PycharmProjects\\dual-numbers\\dual\\implementations.py:32\u001B[0m, in \u001B[0;36mder_maximum\u001B[1;34m(a, b)\u001B[0m\n\u001B[0;32m     30\u001B[0m \u001B[38;5;129m@pointwise_derivative\u001B[39m(np\u001B[38;5;241m.\u001B[39mmaximum)\n\u001B[0;32m     31\u001B[0m \u001B[38;5;28;01mdef\u001B[39;00m \u001B[38;5;21mder_maximum\u001B[39m(a, b):\n\u001B[1;32m---> 32\u001B[0m     \u001B[38;5;28;01mreturn\u001B[39;00m \u001B[43mnp\u001B[49m\u001B[38;5;241;43m.\u001B[39;49m\u001B[43mwhere\u001B[49m\u001B[43m(\u001B[49m\u001B[43ma\u001B[49m\u001B[43m \u001B[49m\u001B[38;5;241;43m>\u001B[39;49m\u001B[43m \u001B[49m\u001B[43mb\u001B[49m\u001B[43m,\u001B[49m\u001B[43m \u001B[49m\u001B[38;5;241;43m1\u001B[39;49m\u001B[43m,\u001B[49m\u001B[43m \u001B[49m\u001B[38;5;241;43m0\u001B[39;49m\u001B[43m)\u001B[49m\n",
      "\u001B[1;31mKeyboardInterrupt\u001B[0m: "
     ]
    }
   ],
   "source": [
    "def relu(x):\n",
    "    return np.maximum(x, 0)\n",
    "\n",
    "def cross_entropy(x, y):\n",
    "    return -1*np.sum(y * np.log(x))\n",
    "\n",
    "def softmax(x):\n",
    "    return np.exp(x) / np.sum(np.exp(x))\n",
    "\n",
    "model = NeuralNetwork(input_size=12*12, loss_function=cross_entropy)\n",
    "model.add_layer(n_neurons=20, activation_function=relu, initialize=\"He\")\n",
    "model.add_layer(n_neurons=10, activation_function=softmax, initialize=\"Xavier\")\n",
    "\n",
    "model.train(data=ds[\"train\"],\n",
    "            learning_rate=0.1,\n",
    "            epochs=1,\n",
    "            validation_data=ds[\"test\"])\n"
   ],
   "metadata": {
    "collapsed": false,
    "ExecuteTime": {
     "end_time": "2023-12-11T21:15:34.313383200Z",
     "start_time": "2023-12-11T20:05:05.470185400Z"
    }
   }
  },
  {
   "cell_type": "code",
   "execution_count": 17,
   "outputs": [
    {
     "data": {
      "text/plain": "0.844"
     },
     "execution_count": 17,
     "metadata": {},
     "output_type": "execute_result"
    }
   ],
   "source": [
    "model.accuracy(ds[\"test\"])"
   ],
   "metadata": {
    "collapsed": false,
    "ExecuteTime": {
     "end_time": "2023-12-11T21:15:40.053642600Z",
     "start_time": "2023-12-11T21:15:36.787123700Z"
    }
   }
  }
 ],
 "metadata": {
  "kernelspec": {
   "display_name": "Python 3",
   "language": "python",
   "name": "python3"
  },
  "language_info": {
   "codemirror_mode": {
    "name": "ipython",
    "version": 2
   },
   "file_extension": ".py",
   "mimetype": "text/x-python",
   "name": "python",
   "nbconvert_exporter": "python",
   "pygments_lexer": "ipython2",
   "version": "2.7.6"
  }
 },
 "nbformat": 4,
 "nbformat_minor": 0
}
