{
 "cells": [
  {
   "cell_type": "code",
   "execution_count": 1,
   "metadata": {
    "collapsed": true,
    "ExecuteTime": {
     "end_time": "2023-09-23T11:53:03.548639900Z",
     "start_time": "2023-09-23T11:53:00.433021200Z"
    }
   },
   "outputs": [
    {
     "data": {
      "text/plain": "DualTensor(\n[[1.0 + 0.0ε 2.0 + 0.0ε]\n [0.0 + 0.0ε 0.0 + 0.0ε]]\n)"
     },
     "execution_count": 1,
     "metadata": {},
     "output_type": "execute_result"
    }
   ],
   "source": [
    "from dual import DualTensor, DualNumber, NeuralNetwork, Layer\n",
    "import numpy as np\n",
    "import numpy.typing as npt\n",
    "from PIL import Image\n",
    "from datasets import load_dataset\n",
    "from albumentations import Resize\n",
    "\n",
    "\n",
    "DualTensor(real=[[1, 2], [0, 0]])"
   ]
  },
  {
   "cell_type": "code",
   "execution_count": 2,
   "outputs": [],
   "source": [
    "def transform_image(image: Image) -> npt.NDArray:\n",
    "    image = np.array(image) # to numpy\n",
    "    image = Resize(width=12, height=12)(image=image)[\"image\"] # resize\n",
    "    image = image / 255 # normalize\n",
    "    image = image.flatten() # flatten\n",
    "    return image\n",
    "\n",
    "def transform_label(label: int) -> int:\n",
    "    result = np.zeros(10)\n",
    "    result[label] = 1\n",
    "    return result\n",
    "\n",
    "def transform(batch):\n",
    "    batch[\"input\"] = [transform_image(image) for image in batch[\"input\"]]\n",
    "    batch[\"label\"] = [transform_label(label) for label in batch[\"label\"]]\n",
    "    return batch\n",
    "\n",
    "\n",
    "ds = load_dataset(\"mnist\", keep_in_memory=True).with_transform(transform=transform).rename_column(original_column_name=\"image\", new_column_name=\"input\")\n",
    "dstrain = ds[\"train\"]"
   ],
   "metadata": {
    "collapsed": false,
    "ExecuteTime": {
     "end_time": "2023-09-23T11:53:08.222812600Z",
     "start_time": "2023-09-23T11:53:03.553636600Z"
    }
   }
  },
  {
   "cell_type": "code",
   "execution_count": null,
   "outputs": [
    {
     "name": "stderr",
     "output_type": "stream",
     "text": [
      "EPOCH 1:  23%|██▎       | 13712/60000 [2:05:01<6:47:13,  1.89it/s, loss=0.396, validation_accuracy=0.875]  "
     ]
    }
   ],
   "source": [
    "def relu(x):\n",
    "    return np.maximum(x, 0)\n",
    "\n",
    "def se(x, y):\n",
    "    return np.sqrt(np.sum((x - y) ** 2))\n",
    "\n",
    "def cross_entropy(x, y):\n",
    "    return -1*np.sum(y * np.log(x))\n",
    "\n",
    "def softmax(x):\n",
    "    return np.exp(x) / np.sum(np.exp(x))\n",
    "\n",
    "model = NeuralNetwork(input_size=12*12, loss_function=cross_entropy)\n",
    "model.add_layer(n_neurons=20, activation_function=relu, initialize=\"He\")\n",
    "model.add_layer(n_neurons=10, activation_function=softmax, initialize=\"Xavier\")\n",
    "\n",
    "model.train(data=ds[\"train\"],\n",
    "            learning_rate=0.1,\n",
    "            epochs=1,\n",
    "            validation_data=ds[\"test\"])\n",
    "\n",
    "print(model.accuracy(ds[\"test\"]))\n"
   ],
   "metadata": {
    "collapsed": false,
    "is_executing": true,
    "ExecuteTime": {
     "start_time": "2023-09-23T11:54:58.095758100Z"
    }
   }
  },
  {
   "cell_type": "code",
   "execution_count": 6,
   "outputs": [
    {
     "name": "stdout",
     "output_type": "stream",
     "text": [
      "0.8917\n"
     ]
    }
   ],
   "source": [
    "print(model.accuracy(ds[\"test\"]))"
   ],
   "metadata": {
    "collapsed": false,
    "ExecuteTime": {
     "end_time": "2023-09-23T20:09:22.888114500Z",
     "start_time": "2023-09-23T20:09:19.231269800Z"
    }
   }
  }
 ],
 "metadata": {
  "kernelspec": {
   "display_name": "Python 3",
   "language": "python",
   "name": "python3"
  },
  "language_info": {
   "codemirror_mode": {
    "name": "ipython",
    "version": 2
   },
   "file_extension": ".py",
   "mimetype": "text/x-python",
   "name": "python",
   "nbconvert_exporter": "python",
   "pygments_lexer": "ipython2",
   "version": "2.7.6"
  }
 },
 "nbformat": 4,
 "nbformat_minor": 0
}
